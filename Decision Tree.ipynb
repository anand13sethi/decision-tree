{
 "cells": [
  {
   "cell_type": "code",
   "execution_count": 19,
   "metadata": {},
   "outputs": [],
   "source": [
    "import pandas as pd\n",
    "import numpy as np\n",
    "import pprint\n",
    "import matplotlib.pyplot as plt\n",
    "import seaborn as sns; sns.set()"
   ]
  },
  {
   "cell_type": "code",
   "execution_count": 2,
   "metadata": {},
   "outputs": [],
   "source": [
    "data = pd.read_csv('train.csv')\n",
    "\n",
    "# frac - specifies 80%\n",
    "# random_state - it saves the current state of the split. Used for reproducability\n",
    "# Spliting data int Train-Validation[80-20]\n",
    "train = data.sample(frac = 0.8, random_state = 200)\n",
    "validation = data.drop(train.index)\n",
    "categorical_train_data = train.iloc[:, 5:10]\n",
    "categorical_validation_data = validation.iloc[:, 5:10]"
   ]
  },
  {
   "cell_type": "code",
   "execution_count": 3,
   "metadata": {},
   "outputs": [],
   "source": [
    "def calc_entropy(table):\n",
    "    target = table.keys()[-1] # target -> Label's column\n",
    "    entropy = 0\n",
    "    values = table[target].unique() # Finds the unique values in target variable, i.e. [0, 1]\n",
    "    for value in values:\n",
    "        '''\n",
    "            total count of 0's         total count of 1's\n",
    "            -------------------   ,    ---------------------  = frac\n",
    "            total numbers of rows      total number of rows\n",
    "        '''\n",
    "        frac = table[target].value_counts()[value]/len(table[target])\n",
    "        if frac == 0:\n",
    "            return 0\n",
    "        entropy += -frac*np.log2(frac)\n",
    "    return(entropy) # returns entropy of whole dataset\n",
    "# print(calc_entropy(categorical_train_data))"
   ]
  },
  {
   "cell_type": "code",
   "execution_count": 4,
   "metadata": {},
   "outputs": [],
   "source": [
    "def calc_info_attribute(table, attribute, mode):\n",
    "    target = table.keys()[-1]\n",
    "    variables = table[attribute].unique() # get unique variables in specified attribute\n",
    "    target_variables = table[target].unique() # get unique in target, i.e. [0, 1]\n",
    "    info = 0\n",
    "    if mode is 'entropy':\n",
    "        for v in variables:\n",
    "            entropy = 0\n",
    "            for target_v in target_variables:\n",
    "                n = len(table[attribute][table[attribute] == v][table[target] == target_v])\n",
    "                d = len(table[attribute][table[attribute] == v])\n",
    "                frac1 = n/(d + np.finfo(float).eps) # eps - smallest representable number such that 1.0 + eps != 1.0\n",
    "                if frac1 == 0:\n",
    "                    entropy += 0\n",
    "                else:\n",
    "                    entropy += -frac1 * np.log2(frac1)\n",
    "            frac2 = d/len(table)\n",
    "            info += -frac2 * entropy\n",
    "        return abs(info)\n",
    "    elif mode is 'gini':\n",
    "        num_of_ones = table['left'].tolist().count(1)\n",
    "        p = num_of_ones/float(len(data.index))\n",
    "        gini_index = 2*p*(1-p)\n",
    "        return gini_index\n",
    "    elif mode is 'misclassification':\n",
    "        num_of_ones = table['left'].tolist().count(1)\n",
    "        p = num_of_ones/float(len(data.index))\n",
    "        missclasification = min(p,1-p)\n",
    "        return missclasification\n",
    "# print(calc_info_attribute(train, 'salary', 'gini'))"
   ]
  },
  {
   "cell_type": "code",
   "execution_count": 5,
   "metadata": {},
   "outputs": [],
   "source": [
    "def winner_attribute(table, attribute_list):\n",
    "    info_gain = []\n",
    "#     print(attribute_list)\n",
    "    if len(attribute_list) == 1:\n",
    "        return attribute_list[0]\n",
    "    for attribute in attribute_list:\n",
    "        info_gain.append(calc_entropy(table) - calc_info_attribute(table, attribute, 'misclassification'))\n",
    "    return attribute_list[np.argmax(info_gain)]"
   ]
  },
  {
   "cell_type": "code",
   "execution_count": 6,
   "metadata": {},
   "outputs": [],
   "source": [
    "def build_tree(table, prev_table, attribute_list, tree = None):\n",
    "    if len(table['left'].unique()) <= 1:\n",
    "        return {'leaf' : table['left'].unique()[0]}\n",
    "    elif len(table) == 0:\n",
    "        return {'leaf': np.unique(table['left'])[np.argmax(np.unique(table['left'], return_counts = True)[1])]}\n",
    "    elif len(attribute_list) == 0:\n",
    "        return {'leaf': np.unique(table['left'])[np.argmax(np.unique(table['left'], return_counts = True)[1])]}\n",
    "    node = winner_attribute(table, attribute_list)\n",
    "    attribute_list.remove(node)\n",
    "    if tree is None:\n",
    "        tree = {}\n",
    "        tree[node] = {}\n",
    "        tree['default'] = np.unique(table['left'])[(np.argmax(np.unique(table['left'], return_counts = True)[1]))]\n",
    "    for v in table[node].unique():\n",
    "        mod_table = table.where(table[node] == v).dropna()\n",
    "        tree[node][v] = build_tree(mod_table, table, attribute_list[:])\n",
    "    return tree\n",
    "\n",
    "t = build_tree(categorical_train_data, categorical_train_data, ['work_accident', 'promotion_last_5years', 'sales', 'salary'])\n",
    "# pprint.pprint(t)"
   ]
  },
  {
   "cell_type": "code",
   "execution_count": 7,
   "metadata": {},
   "outputs": [],
   "source": [
    "def pred(query, tree):\n",
    "    try:\n",
    "        if list(tree.keys())[0] == 'leaf':\n",
    "            return tree['leaf']\n",
    "        if list(tree.keys())[0] is 'default':\n",
    "            val = query[list(tree.keys())[1]]\n",
    "            next = list(tree.keys())[1]\n",
    "        else:\n",
    "            val = query[list(tree.keys())[0]]\n",
    "            next = list(tree.keys())[0]\n",
    "        return pred(query, tree[next][val])\n",
    "    except:\n",
    "        return 0"
   ]
  },
  {
   "cell_type": "code",
   "execution_count": 8,
   "metadata": {},
   "outputs": [],
   "source": [
    "predicted = []\n",
    "def prediction(tree, data):\n",
    "    for index, row in data.iterrows():\n",
    "        predicted.append(pred(row, tree))\n",
    "prediction(t, categorical_validation_data)"
   ]
  },
  {
   "cell_type": "code",
   "execution_count": 9,
   "metadata": {
    "scrolled": true
   },
   "outputs": [
    {
     "name": "stdout",
     "output_type": "stream",
     "text": [
      "Accuracy -  0.7789145907473309\n"
     ]
    },
    {
     "data": {
      "text/plain": [
       "0.22108540925266906"
      ]
     },
     "execution_count": 9,
     "metadata": {},
     "output_type": "execute_result"
    }
   ],
   "source": [
    "def calc_metrics(predictions, actual):\n",
    "    tp, tn, fp, fn = 0, 0, 0, 0\n",
    "    for i in range(len(actual)):\n",
    "        if actual[i] == predictions[i] and actual[i] == 1:\n",
    "            tp += 1\n",
    "        elif actual[i] == predictions[i] and actual[i] == 0:\n",
    "            tn += 1\n",
    "        elif actual[i] != predictions[i] and actual[i] == 0:\n",
    "            fp += 1\n",
    "        else:\n",
    "            fn += 1\n",
    "    accuracy = (tn + tp)/(tn + tp + fp + fn)\n",
    "#     precision = tp/(tp + fp)\n",
    "#     recall = tp/(tp + fn)\n",
    "#     a = 1/precision\n",
    "#     b = 1/recall\n",
    "#     f1 = 2/(a + b)\n",
    "    print('Accuracy - ', accuracy)\n",
    "#     print('Precision - ', precision)\n",
    "#     print('Recall - ', recall)\n",
    "#     print('F1 Score - ', f1)\n",
    "#     print('True Positive - ', tp)\n",
    "#     print('True Negative - ', tn)\n",
    "#     print('False Positive - ', fp)\n",
    "#     print('False Negative - ', fn)\n",
    "    \n",
    "    return 1-accuracy\n",
    "\n",
    "target = categorical_validation_data['left'].tolist()\n",
    "\n",
    "calc_metrics(predicted, target)"
   ]
  },
  {
   "cell_type": "code",
   "execution_count": 10,
   "metadata": {},
   "outputs": [
    {
     "name": "stdout",
     "output_type": "stream",
     "text": [
      "\n",
      "\n",
      "\n",
      "\n",
      "\n",
      "\n",
      "\n",
      "\n",
      "\n",
      "\n",
      "\n",
      "\n",
      "\n",
      "\n",
      "\n",
      "\n",
      "\n"
     ]
    },
    {
     "data": {
      "text/plain": [
       "{'average_montly_hours': [[126.5, 1],\n",
       "  [132.5, 2],\n",
       "  [274.5, 3],\n",
       "  [279.5, 4],\n",
       "  [280.5, 5],\n",
       "  [282.5, 6],\n",
       "  [287.5, 7]],\n",
       " 'last_evaluation': [[0.445, 1], [0.475, 2], [0.995, 3]],\n",
       " 'number_project': [[2.5, 1], [5.5, 2]],\n",
       " 'satisfaction_level': [[0.11499999999999999, 1],\n",
       "  [0.355, 2],\n",
       "  [0.46499999999999997, 3]],\n",
       " 'time_spend_company': [[4.5, 1], [5.5, 2]]}"
      ]
     },
     "execution_count": 10,
     "metadata": {},
     "output_type": "execute_result"
    }
   ],
   "source": [
    "def make_bins(data):\n",
    "    category_dict = {}\n",
    "    label_dict = {}\n",
    "    average_dict = {}\n",
    "    for attribute in ['satisfaction_level', 'last_evaluation', 'number_project', 'average_montly_hours', 'time_spend_company']:\n",
    "        max_counts = []\n",
    "        data.sort_values(attribute, inplace = True)\n",
    "        \n",
    "        for val in data[attribute].unique():\n",
    "            t=data[data[attribute]==val]\n",
    "            max_counts.append([val, np.unique(t['left'])[np.argmax(np.unique(t['left'], return_counts = True)[1])]])\n",
    "        category_dict[attribute] = max_counts\n",
    "#     print(category_dict)\n",
    "    \n",
    "    for key in category_dict.keys():\n",
    "        label = 0\n",
    "        label_list = []\n",
    "        average_list = []\n",
    "        for i in range(len(category_dict[key])-1):\n",
    "            if category_dict[key][i][1] == category_dict[key][i+1][1]:\n",
    "                label_list.append(label)\n",
    "            else:\n",
    "                print()\n",
    "                label += 1\n",
    "                label_list.append(label)\n",
    "                average_list.append([(category_dict[key][i][0] + category_dict[key][i+1][0])/2, label])\n",
    "        average_dict[key] = average_list\n",
    "        label_dict[key] = label_list\n",
    "    return average_dict\n",
    "make_bins(train)"
   ]
  },
  {
   "cell_type": "code",
   "execution_count": 11,
   "metadata": {},
   "outputs": [],
   "source": [
    "def numerical_to_categorical(data):\n",
    "    average_dict = make_bins(data)\n",
    "    print (average_dict)\n",
    "    for key in average_dict.keys():\n",
    "        data.sort_values(key, inplace = True)\n",
    "        new_column = []\n",
    "        i = 0\n",
    "        for index, row in data.iterrows():\n",
    "            if row[key] <= average_dict[key][i][0]:\n",
    "                new_column.append(average_dict[key][i][1]-1)\n",
    "            elif i < len(average_dict[key])-1:\n",
    "                i = i + 1\n",
    "                new_column.append(average_dict[key][i][1]-1)\n",
    "            else:\n",
    "                new_column.append(average_dict[key][i][1])\n",
    "        data.drop(key, axis = 1)\n",
    "        column = pd.Series(new_column)\n",
    "        data[key] = column.values\n",
    "    return data, average_dict"
   ]
  },
  {
   "cell_type": "code",
   "execution_count": 12,
   "metadata": {},
   "outputs": [],
   "source": [
    "def numerical_to_categorical_validation(data, average_dict):\n",
    "    for key in average_dict.keys():\n",
    "        data.sort_values(key, inplace = True)\n",
    "        new_column = []\n",
    "        i = 0\n",
    "        for index, row in data.iterrows():\n",
    "            if row[key] <= average_dict[key][i][0]:\n",
    "                new_column.append(average_dict[key][i][1]-1)\n",
    "            elif i < len(average_dict[key])-1:\n",
    "                i = i + 1\n",
    "                new_column.append(average_dict[key][i][1]-1)\n",
    "            else:\n",
    "                new_column.append(average_dict[key][i][1])\n",
    "        data.drop(key, axis = 1)\n",
    "        column = pd.Series(new_column)\n",
    "        data[key] = column.values\n",
    "    return data\n"
   ]
  },
  {
   "cell_type": "code",
   "execution_count": 13,
   "metadata": {},
   "outputs": [
    {
     "name": "stdout",
     "output_type": "stream",
     "text": [
      "\n",
      "\n",
      "\n",
      "\n",
      "\n",
      "\n",
      "\n",
      "\n",
      "\n",
      "\n",
      "\n",
      "\n",
      "\n",
      "\n",
      "\n",
      "\n",
      "\n",
      "{'last_evaluation': [[0.445, 1], [0.475, 2], [0.995, 3]], 'number_project': [[2.5, 1], [5.5, 2]], 'average_montly_hours': [[126.5, 1], [132.5, 2], [274.5, 3], [279.5, 4], [280.5, 5], [282.5, 6], [287.5, 7]], 'satisfaction_level': [[0.11499999999999999, 1], [0.355, 2], [0.46499999999999997, 3]], 'time_spend_company': [[4.5, 1], [5.5, 2]]}\n"
     ]
    }
   ],
   "source": [
    "discrete_train_data, average_dict = numerical_to_categorical(train)\n",
    "tree = build_tree(discrete_train_data, discrete_train_data, ['satisfaction_level', 'last_evaluation', 'number_project', 'average_montly_hours', 'time_spend_company', 'work_accident', 'promotion_last_5years', 'sales', 'salary'])\n",
    "# pprint.pprint(tree)"
   ]
  },
  {
   "cell_type": "code",
   "execution_count": 14,
   "metadata": {},
   "outputs": [
    {
     "name": "stdout",
     "output_type": "stream",
     "text": [
      "Accuracy -  0.9612989323843416\n"
     ]
    },
    {
     "data": {
      "text/plain": [
       "0.03870106761565839"
      ]
     },
     "execution_count": 14,
     "metadata": {},
     "output_type": "execute_result"
    }
   ],
   "source": [
    "discrete_validation_data = numerical_to_categorical_validation(validation, average_dict)\n",
    "predicted = []\n",
    "prediction(tree, discrete_validation_data)\n",
    "target = validation['left'].tolist()\n",
    "calc_metrics(predicted, target)"
   ]
  },
  {
   "cell_type": "code",
   "execution_count": 15,
   "metadata": {},
   "outputs": [
    {
     "name": "stdout",
     "output_type": "stream",
     "text": [
      "0\n",
      "Accuracy -  0.7784697508896797\n",
      "1\n",
      "Accuracy -  0.9016903914590747\n",
      "2\n",
      "Accuracy -  0.9096975088967971\n",
      "3\n",
      "Accuracy -  0.9292704626334519\n",
      "4\n",
      "Accuracy -  0.9332740213523132\n",
      "5\n",
      "Accuracy -  0.9612989323843416\n",
      "6\n",
      "Accuracy -  0.9635231316725978\n",
      "7\n",
      "Accuracy -  0.9635231316725978\n",
      "8\n",
      "Accuracy -  0.9648576512455516\n",
      "9\n",
      "Accuracy -  0.9612989323843416\n"
     ]
    },
    {
     "data": {
      "image/png": "[encoded data removed]",
      "text/plain": [
       "<Figure size 432x288 with 1 Axes>"
      ]
     },
     "metadata": {
      "needs_background": "light"
     },
     "output_type": "display_data"
    }
   ],
   "source": [
    "new_prediction_dict = {0: [], 1: [], 2: [], 3: [], 4: [], 5: [], 6: [], 7: [], 8: [], 9: []}\n",
    "def prediction_util(query, tree, current_depth, max_depth):\n",
    "    try:\n",
    "        if list(tree.keys())[0] == 'leaf':\n",
    "            new_prediction_dict[max_depth].append(tree['leaf'])\n",
    "            return\n",
    "        if list(tree.keys())[0] == 'default':\n",
    "            val = query[list(tree.keys())[1]]\n",
    "            next = list(tree.keys())[1]\n",
    "        else:\n",
    "            val = query[list(tree.keys())[0]]\n",
    "            next = list(tree.keys())[0]\n",
    "        if(current_depth == max_depth):\n",
    "            new_prediction_dict[current_depth].append(tree['default'])\n",
    "            return\n",
    "        prediction_util(query, tree[next][val], current_depth + 1, max_depth)\n",
    "    except:\n",
    "        new_prediction_dict[max_depth].append(0)\n",
    "\n",
    "def new_prediction(tree, data, max_depth):\n",
    "    for index, row in data.iterrows():\n",
    "        prediction_util(row, tree, 0, max_depth)\n",
    "for i in range(10):\n",
    "    new_prediction(tree, validation, i)\n",
    "error = []\n",
    "target = validation['left'].tolist()\n",
    "for i in range(10):\n",
    "    print(i)\n",
    "    error.append(calc_metrics(new_prediction_dict[i], target))\n",
    "plt.plot([i for i in range(0, 10)], error)\n",
    "plt.title('Error v/s Depth in Validation')\n",
    "plt.xlabel('Number of Levels')\n",
    "plt.ylabel('Error Rate')\n",
    "plt.show()"
   ]
  },
  {
   "cell_type": "code",
   "execution_count": 16,
   "metadata": {},
   "outputs": [
    {
     "name": "stdout",
     "output_type": "stream",
     "text": [
      "0\n",
      "Accuracy -  0.7578420467185762\n",
      "1\n",
      "Accuracy -  0.8919911012235817\n",
      "2\n",
      "Accuracy -  0.9010011123470523\n",
      "3\n",
      "Accuracy -  0.9191323692992214\n",
      "4\n",
      "Accuracy -  0.92146829810901\n",
      "5\n",
      "Accuracy -  0.9586206896551724\n",
      "6\n",
      "Accuracy -  0.9592880978865406\n",
      "7\n",
      "Accuracy -  0.9596218020022247\n",
      "8\n",
      "Accuracy -  0.9650723025583983\n",
      "9\n",
      "Accuracy -  0.9692992213570634\n"
     ]
    },
    {
     "data": {
      "image/png": "[encoded data removed]",
      "text/plain": [
       "<Figure size 432x288 with 1 Axes>"
      ]
     },
     "metadata": {
      "needs_background": "light"
     },
     "output_type": "display_data"
    }
   ],
   "source": [
    "new_prediction_dict = {0: [], 1: [], 2: [], 3: [], 4: [], 5: [], 6: [], 7: [], 8: [], 9: []}\n",
    "for i in range(10):\n",
    "    new_prediction(tree, train, i)\n",
    "error = []\n",
    "target = train['left'].tolist()\n",
    "for i in range(10):\n",
    "    print(i)\n",
    "    error.append(calc_metrics(new_prediction_dict[i], target))\n",
    "plt.plot([i for i in range(0, 10)], error)\n",
    "plt.title('Error v/s Depth in Train')\n",
    "plt.xlabel('Number of Levels')\n",
    "plt.ylabel('Error Rate')\n",
    "plt.show()"
   ]
  },
  {
   "cell_type": "code",
   "execution_count": 17,
   "metadata": {},
   "outputs": [
    {
     "name": "stdout",
     "output_type": "stream",
     "text": [
      "[1, 5, 18, 48, 137, 269, 430, 608, 1060, 1639]\n"
     ]
    },
    {
     "data": {
      "image/png": "[encoded data removed]",
      "text/plain": [
       "<Figure size 432x288 with 1 Axes>"
      ]
     },
     "metadata": {
      "needs_background": "light"
     },
     "output_type": "display_data"
    }
   ],
   "source": [
    "def num_of_nodes(tree,depth,cur_depth,list_num_nodes):\n",
    "    if cur_depth==depth:\n",
    "        list_num_nodes[depth]=list_num_nodes[depth]+1\n",
    "    elif cur_depth<depth:\n",
    "        for key in tree.keys():\n",
    "            if key == 'leaf':\n",
    "                list_num_nodes[depth]=list_num_nodes[depth]+1\n",
    "            elif key != 'default':\n",
    "                for val in tree[key]:\n",
    "                    num_of_nodes(tree[key][val],depth,cur_depth+1,list_num_nodes)\n",
    "list_num_nodes=[]                \n",
    "for i in range(10):        \n",
    "    list_num_nodes.append(0)\n",
    "    num_of_nodes(tree,i,0,list_num_nodes)\n",
    "for i in range(1,10):\n",
    "    list_num_nodes[i]=list_num_nodes[i-1] + list_num_nodes[i]\n",
    "print(list_num_nodes)\n",
    "plt.plot(list_num_nodes, error)\n",
    "plt.title('Error v/s Number Of Nodes')\n",
    "plt.xlabel('Number of Nodes')\n",
    "plt.ylabel('Error Rate')\n",
    "plt.show()"
   ]
  },
  {
   "cell_type": "code",
   "execution_count": 22,
   "metadata": {},
   "outputs": [
    {
     "data": {
      "image/png": "[encoded data removed]",
      "text/plain": [
       "<Figure size 1173.33x1080 with 1 Axes>"
      ]
     },
     "metadata": {},
     "output_type": "display_data"
    }
   ],
   "source": [
    "left = data['left'].values\n",
    "satisfaction = data['satisfaction_level'].values\n",
    "project = data['number_project'].values\n",
    "\n",
    "sns.set_style(\"whitegrid\");\n",
    "sns.set(font_scale = 2)\n",
    "ax = sns.FacetGrid(data, hue=\"left\", height=15) \\\n",
    "   .map(plt.scatter, \"satisfaction_level\", \"number_project\") \\\n",
    "   .add_legend();\n",
    "ax.set(xlabel='Satisfaction Level', ylabel='Number of Projects')\n",
    "\n",
    "plt.show();"
   ]
  },
  {
   "cell_type": "code",
   "execution_count": null,
   "metadata": {},
   "outputs": [],
   "source": []
  }
 ],
 "metadata": {
  "kernelspec": {
   "display_name": "Python 3",
   "language": "python",
   "name": "python3"
  },
  "language_info": {
   "codemirror_mode": {
    "name": "ipython",
    "version": 3
   },
   "file_extension": ".py",
   "mimetype": "text/x-python",
   "name": "python",
   "nbconvert_exporter": "python",
   "pygments_lexer": "ipython3",
   "version": "3.5.2"
  }
 },
 "nbformat": 4,
 "nbformat_minor": 2
}
